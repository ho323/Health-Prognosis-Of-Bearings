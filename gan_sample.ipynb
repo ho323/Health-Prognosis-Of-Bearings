{
 "cells": [
  {
   "cell_type": "code",
   "execution_count": 7,
   "metadata": {},
   "outputs": [],
   "source": [
    "import torch \n",
    "import torch.nn as nn \n",
    "from torch.utils.data import Dataset, DataLoader\n",
    "\n",
    "class BearingDataset(Dataset):\n",
    "    def __init__(self, vibration, rul, seq_length, device):\n",
    "        self.vibration = vibration\n",
    "        self.rul = rul\n",
    "        self.seq_length = seq_length\n",
    "        self.device = device\n",
    "\n",
    "    def __len__(self):\n",
    "        return len(self.rul) - self.seq_length + 1\n",
    "\n",
    "    def __getitem__(self, idx):\n",
    "        x = self.vibration[idx:idx + self.seq_length]\n",
    "        y = self.rul[idx + self.seq_length - 1]\n",
    "\n",
    "        x = torch.tensor(x, dtype=torch.float32).to(self.device)\n",
    "        y = torch.tensor(y, dtype=torch.float32).to(self.device)\n",
    "\n",
    "        return x, y"
   ]
  },
  {
   "cell_type": "code",
   "execution_count": 25,
   "metadata": {},
   "outputs": [],
   "source": [
    "from lib.dataset import *\n",
    "\n",
    "criterion = nn.BCEWithLogitsLoss()\n",
    "data_paths = get_bearing_paths(\"./datasets\")\n",
    "device = torch.device(\"cuda\")\n",
    "batch_size = 256\n",
    "seq_length = 128"
   ]
  },
  {
   "cell_type": "code",
   "execution_count": 26,
   "metadata": {},
   "outputs": [
    {
     "name": "stderr",
     "output_type": "stream",
     "text": [
      "Load Dataset: ./datasets\\35Hz12kN\\Bearing1_1/: 100%|██████████| 123/123 [00:02<00:00, 55.29it/s]\n",
      "Load Dataset: ./datasets\\35Hz12kN\\Bearing1_2/: 100%|██████████| 161/161 [00:03<00:00, 46.43it/s]\n",
      "Load Dataset: ./datasets\\35Hz12kN\\Bearing1_3/: 100%|██████████| 158/158 [00:03<00:00, 47.34it/s]\n"
     ]
    }
   ],
   "source": [
    "train_tasks = []\n",
    "val_tasks = []\n",
    "for i in range(len(data_paths)-12):\n",
    "    df = load_data(data_paths[i] + \"/\")\n",
    "    df = preprocess_data(df)\n",
    "\n",
    "    vibration = df[['Horizontal_vibration_signals', 'Vertical_vibration_signals']].values\n",
    "    rul = df['Normalized_RUL'].values\n",
    "\n",
    "    if i in [0,5,10]:\n",
    "        val_tasks.append(dataloader)\n",
    "        dataset = BearingDataset(vibration, rul, seq_length, device)\n",
    "        dataloader = DataLoader(dataset, batch_size=batch_size, shuffle=False)\n",
    "    else:\n",
    "        train_tasks.append(dataloader)\n",
    "        dataset = BearingDataset(vibration, rul, seq_length, device)\n",
    "        dataloader = DataLoader(dataset, batch_size=batch_size, shuffle=True)"
   ]
  },
  {
   "cell_type": "code",
   "execution_count": null,
   "metadata": {},
   "outputs": [],
   "source": [
    "import torch.optim as optim\n",
    "from lib.model import Generator, Discriminator\n",
    "from lib.engine import train_gan_model\n",
    "\n",
    "generator = Generator(2, 256)\n",
    "discriminator = Discriminator(2, 256)\n",
    "\n",
    "lr = 0.01\n",
    "g_optimizer = optim.AdamW(generator.parameters(), lr=lr)\n",
    "d_optimizer = optim.AdamW(discriminator.parameters(), lr=lr)\n",
    "\n",
    "train_gan_model(\n",
    "    train_tasks=train_tasks,\n",
    "    generator=generator,\n",
    "    discriminator=discriminator,\n",
    "    criterion=criterion,\n",
    "    g_optimizer = g_optimizer,\n",
    "    d_optimizer = d_optimizer,\n",
    "    num_epochs=3,\n",
    "    device = device,\n",
    "    log_file=\"sample_gan.log\",\n",
    "    gan_model_path=\"./models/sample_gan_model.pth\",\n",
    "    dis_model_path=\"./models/sample_dis_model.pth\"\n",
    ")\n"
   ]
  },
  {
   "cell_type": "code",
   "execution_count": null,
   "metadata": {},
   "outputs": [],
   "source": [
    "from lib.engine import generate_augmented_data\n",
    "\n",
    "num_augmented_samples = batch_size\n",
    "\n",
    "for batch in val_tasks[0]:\n",
    "    x, y = batch\n",
    "    x = generate_augmented_data(generator, x, num_augmented_samples, device)\n",
    "    y = y.repeat(1+num_augmented_samples // len(y))\n",
    "\n",
    "    break"
   ]
  },
  {
   "cell_type": "code",
   "execution_count": null,
   "metadata": {},
   "outputs": [],
   "source": []
  }
 ],
 "metadata": {
  "kernelspec": {
   "display_name": "st",
   "language": "python",
   "name": "python3"
  },
  "language_info": {
   "codemirror_mode": {
    "name": "ipython",
    "version": 3
   },
   "file_extension": ".py",
   "mimetype": "text/x-python",
   "name": "python",
   "nbconvert_exporter": "python",
   "pygments_lexer": "ipython3",
   "version": "3.9.19"
  }
 },
 "nbformat": 4,
 "nbformat_minor": 2
}
